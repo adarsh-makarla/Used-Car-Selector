{
 "cells": [
  {
   "cell_type": "markdown",
   "id": "8f8fb187-6c4e-4175-8a7a-9e0408a5f5c7",
   "metadata": {},
   "source": [
    "1. Import Libraries"
   ]
  },
  {
   "cell_type": "code",
   "execution_count": 2,
   "id": "79b83ce7-a48f-4ec1-94c6-c493570bec0f",
   "metadata": {},
   "outputs": [],
   "source": [
    "import pandas as pd"
   ]
  },
  {
   "cell_type": "markdown",
   "id": "91425f74-e750-4970-be49-7ea131144e91",
   "metadata": {},
   "source": [
    "2. Upload Dataset"
   ]
  },
  {
   "cell_type": "code",
   "execution_count": 4,
   "id": "9d2a39c4-b402-4064-ac2c-54b75657b4db",
   "metadata": {},
   "outputs": [],
   "source": [
    "df = pd.read_csv('.\\data\\cars.csv')"
   ]
  },
  {
   "cell_type": "code",
   "execution_count": 5,
   "id": "326d82b5-8fd0-44e2-949b-f0694e89d148",
   "metadata": {},
   "outputs": [
    {
     "data": {
      "text/html": [
       "<div>\n",
       "<style scoped>\n",
       "    .dataframe tbody tr th:only-of-type {\n",
       "        vertical-align: middle;\n",
       "    }\n",
       "\n",
       "    .dataframe tbody tr th {\n",
       "        vertical-align: top;\n",
       "    }\n",
       "\n",
       "    .dataframe thead th {\n",
       "        text-align: right;\n",
       "    }\n",
       "</style>\n",
       "<table border=\"1\" class=\"dataframe\">\n",
       "  <thead>\n",
       "    <tr style=\"text-align: right;\">\n",
       "      <th></th>\n",
       "      <th>manufacturer</th>\n",
       "      <th>model</th>\n",
       "      <th>year</th>\n",
       "      <th>mileage</th>\n",
       "      <th>engine</th>\n",
       "      <th>transmission</th>\n",
       "      <th>drivetrain</th>\n",
       "      <th>fuel_type</th>\n",
       "      <th>mpg</th>\n",
       "      <th>exterior_color</th>\n",
       "      <th>interior_color</th>\n",
       "      <th>accidents_or_damage</th>\n",
       "      <th>one_owner</th>\n",
       "      <th>personal_use_only</th>\n",
       "      <th>seller_name</th>\n",
       "      <th>seller_rating</th>\n",
       "      <th>driver_rating</th>\n",
       "      <th>driver_reviews_num</th>\n",
       "      <th>price_drop</th>\n",
       "      <th>price</th>\n",
       "    </tr>\n",
       "  </thead>\n",
       "  <tbody>\n",
       "    <tr>\n",
       "      <th>0</th>\n",
       "      <td>Acura</td>\n",
       "      <td>ILX Hybrid 1.5L</td>\n",
       "      <td>2013</td>\n",
       "      <td>92945.0</td>\n",
       "      <td>1.5L I-4 i-VTEC variable valve control, engine...</td>\n",
       "      <td>Automatic</td>\n",
       "      <td>Front-wheel Drive</td>\n",
       "      <td>Gasoline</td>\n",
       "      <td>39-38</td>\n",
       "      <td>Black</td>\n",
       "      <td>Parchment</td>\n",
       "      <td>0.0</td>\n",
       "      <td>0.0</td>\n",
       "      <td>0.0</td>\n",
       "      <td>Iconic Coach</td>\n",
       "      <td>NaN</td>\n",
       "      <td>4.4</td>\n",
       "      <td>12.0</td>\n",
       "      <td>300.0</td>\n",
       "      <td>13988.0</td>\n",
       "    </tr>\n",
       "    <tr>\n",
       "      <th>1</th>\n",
       "      <td>Acura</td>\n",
       "      <td>ILX Hybrid 1.5L</td>\n",
       "      <td>2013</td>\n",
       "      <td>47645.0</td>\n",
       "      <td>1.5L I4 8V MPFI SOHC Hybrid</td>\n",
       "      <td>Automatic CVT</td>\n",
       "      <td>Front-wheel Drive</td>\n",
       "      <td>Hybrid</td>\n",
       "      <td>39-38</td>\n",
       "      <td>Gray</td>\n",
       "      <td>Ebony</td>\n",
       "      <td>1.0</td>\n",
       "      <td>1.0</td>\n",
       "      <td>1.0</td>\n",
       "      <td>Kars Today</td>\n",
       "      <td>NaN</td>\n",
       "      <td>4.4</td>\n",
       "      <td>12.0</td>\n",
       "      <td>NaN</td>\n",
       "      <td>17995.0</td>\n",
       "    </tr>\n",
       "    <tr>\n",
       "      <th>2</th>\n",
       "      <td>Acura</td>\n",
       "      <td>ILX Hybrid 1.5L</td>\n",
       "      <td>2013</td>\n",
       "      <td>53422.0</td>\n",
       "      <td>1.5L I4 8V MPFI SOHC Hybrid</td>\n",
       "      <td>Automatic CVT</td>\n",
       "      <td>Front-wheel Drive</td>\n",
       "      <td>Hybrid</td>\n",
       "      <td>39-38</td>\n",
       "      <td>Bellanova White Pearl</td>\n",
       "      <td>Ebony</td>\n",
       "      <td>0.0</td>\n",
       "      <td>1.0</td>\n",
       "      <td>1.0</td>\n",
       "      <td>Weiss Toyota of South County</td>\n",
       "      <td>4.3</td>\n",
       "      <td>4.4</td>\n",
       "      <td>12.0</td>\n",
       "      <td>500.0</td>\n",
       "      <td>17000.0</td>\n",
       "    </tr>\n",
       "    <tr>\n",
       "      <th>3</th>\n",
       "      <td>Acura</td>\n",
       "      <td>ILX Hybrid 1.5L</td>\n",
       "      <td>2013</td>\n",
       "      <td>117598.0</td>\n",
       "      <td>1.5L I4 8V MPFI SOHC Hybrid</td>\n",
       "      <td>Automatic CVT</td>\n",
       "      <td>Front-wheel Drive</td>\n",
       "      <td>Hybrid</td>\n",
       "      <td>39-38</td>\n",
       "      <td>Polished Metal Metallic</td>\n",
       "      <td>NaN</td>\n",
       "      <td>0.0</td>\n",
       "      <td>1.0</td>\n",
       "      <td>1.0</td>\n",
       "      <td>Apple Tree Acura</td>\n",
       "      <td>NaN</td>\n",
       "      <td>4.4</td>\n",
       "      <td>12.0</td>\n",
       "      <td>675.0</td>\n",
       "      <td>14958.0</td>\n",
       "    </tr>\n",
       "    <tr>\n",
       "      <th>4</th>\n",
       "      <td>Acura</td>\n",
       "      <td>ILX Hybrid 1.5L</td>\n",
       "      <td>2013</td>\n",
       "      <td>114865.0</td>\n",
       "      <td>1.5L I4 8V MPFI SOHC Hybrid</td>\n",
       "      <td>Automatic CVT</td>\n",
       "      <td>Front-wheel Drive</td>\n",
       "      <td>Hybrid</td>\n",
       "      <td>39-38</td>\n",
       "      <td>NaN</td>\n",
       "      <td>Ebony</td>\n",
       "      <td>1.0</td>\n",
       "      <td>0.0</td>\n",
       "      <td>1.0</td>\n",
       "      <td>Herb Connolly Chevrolet</td>\n",
       "      <td>3.7</td>\n",
       "      <td>4.4</td>\n",
       "      <td>12.0</td>\n",
       "      <td>300.0</td>\n",
       "      <td>14498.0</td>\n",
       "    </tr>\n",
       "  </tbody>\n",
       "</table>\n",
       "</div>"
      ],
      "text/plain": [
       "  manufacturer            model  year   mileage  \\\n",
       "0        Acura  ILX Hybrid 1.5L  2013   92945.0   \n",
       "1        Acura  ILX Hybrid 1.5L  2013   47645.0   \n",
       "2        Acura  ILX Hybrid 1.5L  2013   53422.0   \n",
       "3        Acura  ILX Hybrid 1.5L  2013  117598.0   \n",
       "4        Acura  ILX Hybrid 1.5L  2013  114865.0   \n",
       "\n",
       "                                              engine   transmission  \\\n",
       "0  1.5L I-4 i-VTEC variable valve control, engine...      Automatic   \n",
       "1                        1.5L I4 8V MPFI SOHC Hybrid  Automatic CVT   \n",
       "2                        1.5L I4 8V MPFI SOHC Hybrid  Automatic CVT   \n",
       "3                        1.5L I4 8V MPFI SOHC Hybrid  Automatic CVT   \n",
       "4                        1.5L I4 8V MPFI SOHC Hybrid  Automatic CVT   \n",
       "\n",
       "          drivetrain fuel_type    mpg           exterior_color interior_color  \\\n",
       "0  Front-wheel Drive  Gasoline  39-38                    Black      Parchment   \n",
       "1  Front-wheel Drive    Hybrid  39-38                     Gray          Ebony   \n",
       "2  Front-wheel Drive    Hybrid  39-38    Bellanova White Pearl          Ebony   \n",
       "3  Front-wheel Drive    Hybrid  39-38  Polished Metal Metallic            NaN   \n",
       "4  Front-wheel Drive    Hybrid  39-38                      NaN          Ebony   \n",
       "\n",
       "   accidents_or_damage  one_owner  personal_use_only  \\\n",
       "0                  0.0        0.0                0.0   \n",
       "1                  1.0        1.0                1.0   \n",
       "2                  0.0        1.0                1.0   \n",
       "3                  0.0        1.0                1.0   \n",
       "4                  1.0        0.0                1.0   \n",
       "\n",
       "                    seller_name  seller_rating  driver_rating  \\\n",
       "0                  Iconic Coach            NaN            4.4   \n",
       "1                    Kars Today            NaN            4.4   \n",
       "2  Weiss Toyota of South County            4.3            4.4   \n",
       "3              Apple Tree Acura            NaN            4.4   \n",
       "4       Herb Connolly Chevrolet            3.7            4.4   \n",
       "\n",
       "   driver_reviews_num  price_drop    price  \n",
       "0                12.0       300.0  13988.0  \n",
       "1                12.0         NaN  17995.0  \n",
       "2                12.0       500.0  17000.0  \n",
       "3                12.0       675.0  14958.0  \n",
       "4                12.0       300.0  14498.0  "
      ]
     },
     "execution_count": 5,
     "metadata": {},
     "output_type": "execute_result"
    }
   ],
   "source": [
    "df.head()"
   ]
  },
  {
   "cell_type": "code",
   "execution_count": 6,
   "id": "90125601-ea3f-43cf-8b80-192ec36715a3",
   "metadata": {},
   "outputs": [
    {
     "data": {
      "text/plain": [
       "(762091, 20)"
      ]
     },
     "execution_count": 6,
     "metadata": {},
     "output_type": "execute_result"
    }
   ],
   "source": [
    "df.shape"
   ]
  },
  {
   "cell_type": "code",
   "execution_count": 7,
   "id": "ae7ac237-b607-478e-8b91-1508a2170866",
   "metadata": {},
   "outputs": [
    {
     "name": "stdout",
     "output_type": "stream",
     "text": [
      "manufacturer            object\n",
      "model                   object\n",
      "year                     int64\n",
      "mileage                float64\n",
      "engine                  object\n",
      "transmission            object\n",
      "drivetrain              object\n",
      "fuel_type               object\n",
      "mpg                     object\n",
      "exterior_color          object\n",
      "interior_color          object\n",
      "accidents_or_damage    float64\n",
      "one_owner              float64\n",
      "personal_use_only      float64\n",
      "seller_name             object\n",
      "seller_rating          float64\n",
      "driver_rating          float64\n",
      "driver_reviews_num     float64\n",
      "price_drop             float64\n",
      "price                  float64\n",
      "dtype: object\n"
     ]
    }
   ],
   "source": [
    "print(df.dtypes)"
   ]
  },
  {
   "cell_type": "code",
   "execution_count": 8,
   "id": "ae0e363b-bcef-4aea-a1cb-83f10c8b1a17",
   "metadata": {},
   "outputs": [],
   "source": [
    "df = df[df['manufacturer'] != 'Tesla']  #Lacking data for mpg, which impacts decision to choose a car"
   ]
  },
  {
   "cell_type": "code",
   "execution_count": 9,
   "id": "47b30ac7-175b-49c6-9fe7-343cb89973ec",
   "metadata": {},
   "outputs": [
    {
     "name": "stdout",
     "output_type": "stream",
     "text": [
      "manufacturer                0\n",
      "model                       0\n",
      "year                        0\n",
      "mileage                   506\n",
      "engine                  15014\n",
      "transmission             9904\n",
      "drivetrain              21553\n",
      "fuel_type               22917\n",
      "mpg                    136188\n",
      "exterior_color           8688\n",
      "interior_color          56197\n",
      "accidents_or_damage     23688\n",
      "one_owner               30947\n",
      "personal_use_only       24328\n",
      "seller_name              8236\n",
      "seller_rating          212296\n",
      "driver_rating           31266\n",
      "driver_reviews_num          0\n",
      "price_drop             349559\n",
      "price                       0\n",
      "dtype: int64\n"
     ]
    }
   ],
   "source": [
    "missing_data = df.isnull().sum()\n",
    "print(missing_data)"
   ]
  },
  {
   "cell_type": "code",
   "execution_count": 10,
   "id": "1a159833-fbef-48f9-9841-2e7ade6c8dfa",
   "metadata": {},
   "outputs": [
    {
     "name": "stdout",
     "output_type": "stream",
     "text": [
      "0    39-38\n",
      "1    39-38\n",
      "2    39-38\n",
      "3    39-38\n",
      "4    39-38\n",
      "Name: mpg, dtype: object\n"
     ]
    }
   ],
   "source": [
    "print(df['mpg'].head())"
   ]
  },
  {
   "cell_type": "code",
   "execution_count": 11,
   "id": "91615b21-fe79-4596-aae4-92126aa822ae",
   "metadata": {},
   "outputs": [],
   "source": [
    "def avg_mpg_range(mpg_range):\n",
    "    '''Function to convert string type of mpg ranges and using average of the range'''\n",
    "    if isinstance(mpg_range, str) and '-' in mpg_range:\n",
    "        mpgs = mpg_range.split('-')\n",
    "        try:\n",
    "            return (float(mpgs[0]) + float(mpgs[1])) / 2\n",
    "        except ValueError:\n",
    "            return None \n",
    "    return None"
   ]
  },
  {
   "cell_type": "code",
   "execution_count": 12,
   "id": "15c7a23b-fc5b-4a38-9e6b-b5f8a9d7bfc5",
   "metadata": {},
   "outputs": [],
   "source": [
    "df['mpg'] = df['mpg'].apply(avg_mpg_range)"
   ]
  },
  {
   "cell_type": "code",
   "execution_count": 13,
   "id": "c4e834e3-d7ef-45b6-8ef5-d9d1bd1044e0",
   "metadata": {},
   "outputs": [
    {
     "name": "stdout",
     "output_type": "stream",
     "text": [
      "0    38.5\n",
      "1    38.5\n",
      "2    38.5\n",
      "3    38.5\n",
      "4    38.5\n",
      "Name: mpg, dtype: float64\n"
     ]
    }
   ],
   "source": [
    "print(df['mpg'].head())"
   ]
  },
  {
   "cell_type": "code",
   "execution_count": 14,
   "id": "29b7367b-40f9-4c3d-bf2a-33d39b728b22",
   "metadata": {},
   "outputs": [
    {
     "name": "stdout",
     "output_type": "stream",
     "text": [
      "Index(['manufacturer', 'model', 'year', 'mileage', 'engine', 'transmission',\n",
      "       'drivetrain', 'fuel_type', 'mpg', 'exterior_color', 'interior_color',\n",
      "       'accidents_or_damage', 'one_owner', 'personal_use_only', 'seller_name',\n",
      "       'seller_rating', 'driver_rating', 'driver_reviews_num', 'price_drop',\n",
      "       'price'],\n",
      "      dtype='object')\n"
     ]
    }
   ],
   "source": [
    "print(df.columns)"
   ]
  },
  {
   "cell_type": "code",
   "execution_count": 15,
   "id": "11899b1b-bf65-479b-88fb-4c8ae0ef5bfa",
   "metadata": {},
   "outputs": [],
   "source": [
    "brand_stats = df.groupby('manufacturer').agg(\n",
    "    median_price=('price', 'median'),   #Using median because some brands have a range of cheap to expensive models, skewing the mean\n",
    "    avg_mileage=('mileage', 'mean'),\n",
    "    avg_mpg=('mpg', 'mean'),\n",
    "    count_cars=('price', 'size')\n",
    ")"
   ]
  },
  {
   "cell_type": "code",
   "execution_count": 16,
   "id": "062dbf40-f3c2-4cde-adba-9af96a15c7cc",
   "metadata": {},
   "outputs": [],
   "source": [
    "brand_stats_sorted = brand_stats.sort_values(by = 'median_price', ascending = True)"
   ]
  },
  {
   "cell_type": "code",
   "execution_count": 17,
   "id": "62aef857-420a-46c5-9c5a-7e997d66a533",
   "metadata": {},
   "outputs": [
    {
     "name": "stdout",
     "output_type": "stream",
     "text": [
      "               median_price   avg_mileage    avg_mpg  count_cars\n",
      "manufacturer                                                    \n",
      "Mitsubishi          19195.0  53522.142882  27.374710        5743\n",
      "Hyundai             20410.0  53929.189317  28.652012       22203\n",
      "Kia                 20998.0  51777.950843  27.765033       35063\n",
      "Nissan              22400.0  55991.446133  26.525296       48529\n",
      "Chrysler            22694.0  72064.598845  23.540829       12647\n",
      "Buick               22908.5  52092.066863  24.810036       14624\n",
      "Volkswagen          22995.0  52226.730775  26.851394       24620\n",
      "Dodge               23196.0  69593.030516  20.924582       25250\n",
      "Mazda               23995.0  51686.479160  27.429738       15485\n",
      "Honda               24998.0  60514.461066  28.640065       37612\n",
      "Subaru              25523.0  54270.768121  27.560412       24767\n",
      "Chevrolet           26950.0  60654.440572  23.503852       56043\n",
      "Jeep                27829.0  52062.437802  21.929937       41665\n",
      "Acura               28797.0  53784.915989  25.231526        8489\n",
      "Toyota              28990.0  62684.970126  28.118276       59535\n",
      "Ford                29487.0  59956.230337  23.152441       79526\n",
      "INFINITI            30000.0  58168.417114  21.837484       12289\n",
      "Lincoln             31795.0  52537.227951  22.196842       10608\n",
      "Jaguar              31998.0  46903.645040  24.227229        3469\n",
      "BMW                 33500.0  49544.823097  24.677254       37570\n",
      "Audi                33952.0  49497.193346  24.458115       17863\n",
      "Cadillac            33995.5  52364.509082  21.668523       17794\n",
      "Lexus               34500.0  59537.789063  24.529469       21301\n",
      "GMC                 35800.0  62293.990187  20.135622       29563\n",
      "Volvo               36673.0  44832.971873  24.350764       10029\n",
      "Mercedes-Benz       39783.5  44640.622057  23.011866       40824\n",
      "RAM                 41492.5  57917.899354  17.913241       19364\n",
      "Land Rover          44990.0  47356.618275  20.356639       12272\n",
      "Porsche             68576.0  34604.131699  20.736938       11461\n"
     ]
    }
   ],
   "source": [
    "print(brand_stats_sorted)"
   ]
  },
  {
   "cell_type": "code",
   "execution_count": null,
   "id": "c898e4c7-20bd-48d6-a766-8c3668c8299b",
   "metadata": {},
   "outputs": [],
   "source": []
  }
 ],
 "metadata": {
  "kernelspec": {
   "display_name": "Python [conda env:base] *",
   "language": "python",
   "name": "conda-base-py"
  },
  "language_info": {
   "codemirror_mode": {
    "name": "ipython",
    "version": 3
   },
   "file_extension": ".py",
   "mimetype": "text/x-python",
   "name": "python",
   "nbconvert_exporter": "python",
   "pygments_lexer": "ipython3",
   "version": "3.11.7"
  }
 },
 "nbformat": 4,
 "nbformat_minor": 5
}
