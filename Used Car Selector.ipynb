{
 "cells": [
  {
   "cell_type": "markdown",
   "id": "8f8fb187-6c4e-4175-8a7a-9e0408a5f5c7",
   "metadata": {},
   "source": [
    "1. Import Libraries"
   ]
  },
  {
   "cell_type": "code",
   "execution_count": 2,
   "id": "257db4c6-2495-434f-82d5-dcbbbf45af9b",
   "metadata": {},
   "outputs": [
    {
     "name": "stdout",
     "output_type": "stream",
     "text": [
      "Requirement already satisfied: xgboost in c:\\users\\makar\\anaconda3\\lib\\site-packages (2.1.3)\n",
      "Requirement already satisfied: numpy in c:\\users\\makar\\anaconda3\\lib\\site-packages (from xgboost) (1.26.4)\n",
      "Requirement already satisfied: scipy in c:\\users\\makar\\anaconda3\\lib\\site-packages (from xgboost) (1.11.4)\n"
     ]
    }
   ],
   "source": [
    "!pip install xgboost"
   ]
  },
  {
   "cell_type": "code",
   "execution_count": 51,
   "id": "79b83ce7-a48f-4ec1-94c6-c493570bec0f",
   "metadata": {},
   "outputs": [],
   "source": [
    "import pandas as pd\n",
    "import xgboost as xgb\n",
    "from sklearn.model_selection import train_test_split\n",
    "import matplotlib.pyplot as plt\n",
    "import seaborn as sns"
   ]
  },
  {
   "cell_type": "markdown",
   "id": "91425f74-e750-4970-be49-7ea131144e91",
   "metadata": {},
   "source": [
    "2. Upload Dataset"
   ]
  },
  {
   "cell_type": "code",
   "execution_count": 5,
   "id": "9d2a39c4-b402-4064-ac2c-54b75657b4db",
   "metadata": {},
   "outputs": [],
   "source": [
    "df = pd.read_csv('.\\data\\cars.csv')"
   ]
  },
  {
   "cell_type": "code",
   "execution_count": 6,
   "id": "326d82b5-8fd0-44e2-949b-f0694e89d148",
   "metadata": {},
   "outputs": [
    {
     "data": {
      "text/html": [
       "<div>\n",
       "<style scoped>\n",
       "    .dataframe tbody tr th:only-of-type {\n",
       "        vertical-align: middle;\n",
       "    }\n",
       "\n",
       "    .dataframe tbody tr th {\n",
       "        vertical-align: top;\n",
       "    }\n",
       "\n",
       "    .dataframe thead th {\n",
       "        text-align: right;\n",
       "    }\n",
       "</style>\n",
       "<table border=\"1\" class=\"dataframe\">\n",
       "  <thead>\n",
       "    <tr style=\"text-align: right;\">\n",
       "      <th></th>\n",
       "      <th>manufacturer</th>\n",
       "      <th>model</th>\n",
       "      <th>year</th>\n",
       "      <th>mileage</th>\n",
       "      <th>engine</th>\n",
       "      <th>transmission</th>\n",
       "      <th>drivetrain</th>\n",
       "      <th>fuel_type</th>\n",
       "      <th>mpg</th>\n",
       "      <th>exterior_color</th>\n",
       "      <th>interior_color</th>\n",
       "      <th>accidents_or_damage</th>\n",
       "      <th>one_owner</th>\n",
       "      <th>personal_use_only</th>\n",
       "      <th>seller_name</th>\n",
       "      <th>seller_rating</th>\n",
       "      <th>driver_rating</th>\n",
       "      <th>driver_reviews_num</th>\n",
       "      <th>price_drop</th>\n",
       "      <th>price</th>\n",
       "    </tr>\n",
       "  </thead>\n",
       "  <tbody>\n",
       "    <tr>\n",
       "      <th>0</th>\n",
       "      <td>Acura</td>\n",
       "      <td>ILX Hybrid 1.5L</td>\n",
       "      <td>2013</td>\n",
       "      <td>92945.0</td>\n",
       "      <td>1.5L I-4 i-VTEC variable valve control, engine...</td>\n",
       "      <td>Automatic</td>\n",
       "      <td>Front-wheel Drive</td>\n",
       "      <td>Gasoline</td>\n",
       "      <td>39-38</td>\n",
       "      <td>Black</td>\n",
       "      <td>Parchment</td>\n",
       "      <td>0.0</td>\n",
       "      <td>0.0</td>\n",
       "      <td>0.0</td>\n",
       "      <td>Iconic Coach</td>\n",
       "      <td>NaN</td>\n",
       "      <td>4.4</td>\n",
       "      <td>12.0</td>\n",
       "      <td>300.0</td>\n",
       "      <td>13988.0</td>\n",
       "    </tr>\n",
       "    <tr>\n",
       "      <th>1</th>\n",
       "      <td>Acura</td>\n",
       "      <td>ILX Hybrid 1.5L</td>\n",
       "      <td>2013</td>\n",
       "      <td>47645.0</td>\n",
       "      <td>1.5L I4 8V MPFI SOHC Hybrid</td>\n",
       "      <td>Automatic CVT</td>\n",
       "      <td>Front-wheel Drive</td>\n",
       "      <td>Hybrid</td>\n",
       "      <td>39-38</td>\n",
       "      <td>Gray</td>\n",
       "      <td>Ebony</td>\n",
       "      <td>1.0</td>\n",
       "      <td>1.0</td>\n",
       "      <td>1.0</td>\n",
       "      <td>Kars Today</td>\n",
       "      <td>NaN</td>\n",
       "      <td>4.4</td>\n",
       "      <td>12.0</td>\n",
       "      <td>NaN</td>\n",
       "      <td>17995.0</td>\n",
       "    </tr>\n",
       "    <tr>\n",
       "      <th>2</th>\n",
       "      <td>Acura</td>\n",
       "      <td>ILX Hybrid 1.5L</td>\n",
       "      <td>2013</td>\n",
       "      <td>53422.0</td>\n",
       "      <td>1.5L I4 8V MPFI SOHC Hybrid</td>\n",
       "      <td>Automatic CVT</td>\n",
       "      <td>Front-wheel Drive</td>\n",
       "      <td>Hybrid</td>\n",
       "      <td>39-38</td>\n",
       "      <td>Bellanova White Pearl</td>\n",
       "      <td>Ebony</td>\n",
       "      <td>0.0</td>\n",
       "      <td>1.0</td>\n",
       "      <td>1.0</td>\n",
       "      <td>Weiss Toyota of South County</td>\n",
       "      <td>4.3</td>\n",
       "      <td>4.4</td>\n",
       "      <td>12.0</td>\n",
       "      <td>500.0</td>\n",
       "      <td>17000.0</td>\n",
       "    </tr>\n",
       "    <tr>\n",
       "      <th>3</th>\n",
       "      <td>Acura</td>\n",
       "      <td>ILX Hybrid 1.5L</td>\n",
       "      <td>2013</td>\n",
       "      <td>117598.0</td>\n",
       "      <td>1.5L I4 8V MPFI SOHC Hybrid</td>\n",
       "      <td>Automatic CVT</td>\n",
       "      <td>Front-wheel Drive</td>\n",
       "      <td>Hybrid</td>\n",
       "      <td>39-38</td>\n",
       "      <td>Polished Metal Metallic</td>\n",
       "      <td>NaN</td>\n",
       "      <td>0.0</td>\n",
       "      <td>1.0</td>\n",
       "      <td>1.0</td>\n",
       "      <td>Apple Tree Acura</td>\n",
       "      <td>NaN</td>\n",
       "      <td>4.4</td>\n",
       "      <td>12.0</td>\n",
       "      <td>675.0</td>\n",
       "      <td>14958.0</td>\n",
       "    </tr>\n",
       "    <tr>\n",
       "      <th>4</th>\n",
       "      <td>Acura</td>\n",
       "      <td>ILX Hybrid 1.5L</td>\n",
       "      <td>2013</td>\n",
       "      <td>114865.0</td>\n",
       "      <td>1.5L I4 8V MPFI SOHC Hybrid</td>\n",
       "      <td>Automatic CVT</td>\n",
       "      <td>Front-wheel Drive</td>\n",
       "      <td>Hybrid</td>\n",
       "      <td>39-38</td>\n",
       "      <td>NaN</td>\n",
       "      <td>Ebony</td>\n",
       "      <td>1.0</td>\n",
       "      <td>0.0</td>\n",
       "      <td>1.0</td>\n",
       "      <td>Herb Connolly Chevrolet</td>\n",
       "      <td>3.7</td>\n",
       "      <td>4.4</td>\n",
       "      <td>12.0</td>\n",
       "      <td>300.0</td>\n",
       "      <td>14498.0</td>\n",
       "    </tr>\n",
       "  </tbody>\n",
       "</table>\n",
       "</div>"
      ],
      "text/plain": [
       "  manufacturer            model  year   mileage  \\\n",
       "0        Acura  ILX Hybrid 1.5L  2013   92945.0   \n",
       "1        Acura  ILX Hybrid 1.5L  2013   47645.0   \n",
       "2        Acura  ILX Hybrid 1.5L  2013   53422.0   \n",
       "3        Acura  ILX Hybrid 1.5L  2013  117598.0   \n",
       "4        Acura  ILX Hybrid 1.5L  2013  114865.0   \n",
       "\n",
       "                                              engine   transmission  \\\n",
       "0  1.5L I-4 i-VTEC variable valve control, engine...      Automatic   \n",
       "1                        1.5L I4 8V MPFI SOHC Hybrid  Automatic CVT   \n",
       "2                        1.5L I4 8V MPFI SOHC Hybrid  Automatic CVT   \n",
       "3                        1.5L I4 8V MPFI SOHC Hybrid  Automatic CVT   \n",
       "4                        1.5L I4 8V MPFI SOHC Hybrid  Automatic CVT   \n",
       "\n",
       "          drivetrain fuel_type    mpg           exterior_color interior_color  \\\n",
       "0  Front-wheel Drive  Gasoline  39-38                    Black      Parchment   \n",
       "1  Front-wheel Drive    Hybrid  39-38                     Gray          Ebony   \n",
       "2  Front-wheel Drive    Hybrid  39-38    Bellanova White Pearl          Ebony   \n",
       "3  Front-wheel Drive    Hybrid  39-38  Polished Metal Metallic            NaN   \n",
       "4  Front-wheel Drive    Hybrid  39-38                      NaN          Ebony   \n",
       "\n",
       "   accidents_or_damage  one_owner  personal_use_only  \\\n",
       "0                  0.0        0.0                0.0   \n",
       "1                  1.0        1.0                1.0   \n",
       "2                  0.0        1.0                1.0   \n",
       "3                  0.0        1.0                1.0   \n",
       "4                  1.0        0.0                1.0   \n",
       "\n",
       "                    seller_name  seller_rating  driver_rating  \\\n",
       "0                  Iconic Coach            NaN            4.4   \n",
       "1                    Kars Today            NaN            4.4   \n",
       "2  Weiss Toyota of South County            4.3            4.4   \n",
       "3              Apple Tree Acura            NaN            4.4   \n",
       "4       Herb Connolly Chevrolet            3.7            4.4   \n",
       "\n",
       "   driver_reviews_num  price_drop    price  \n",
       "0                12.0       300.0  13988.0  \n",
       "1                12.0         NaN  17995.0  \n",
       "2                12.0       500.0  17000.0  \n",
       "3                12.0       675.0  14958.0  \n",
       "4                12.0       300.0  14498.0  "
      ]
     },
     "execution_count": 6,
     "metadata": {},
     "output_type": "execute_result"
    }
   ],
   "source": [
    "df.head()"
   ]
  },
  {
   "cell_type": "code",
   "execution_count": 7,
   "id": "90125601-ea3f-43cf-8b80-192ec36715a3",
   "metadata": {},
   "outputs": [
    {
     "data": {
      "text/plain": [
       "(762091, 20)"
      ]
     },
     "execution_count": 7,
     "metadata": {},
     "output_type": "execute_result"
    }
   ],
   "source": [
    "df.shape"
   ]
  },
  {
   "cell_type": "code",
   "execution_count": 8,
   "id": "ae7ac237-b607-478e-8b91-1508a2170866",
   "metadata": {},
   "outputs": [
    {
     "name": "stdout",
     "output_type": "stream",
     "text": [
      "manufacturer            object\n",
      "model                   object\n",
      "year                     int64\n",
      "mileage                float64\n",
      "engine                  object\n",
      "transmission            object\n",
      "drivetrain              object\n",
      "fuel_type               object\n",
      "mpg                     object\n",
      "exterior_color          object\n",
      "interior_color          object\n",
      "accidents_or_damage    float64\n",
      "one_owner              float64\n",
      "personal_use_only      float64\n",
      "seller_name             object\n",
      "seller_rating          float64\n",
      "driver_rating          float64\n",
      "driver_reviews_num     float64\n",
      "price_drop             float64\n",
      "price                  float64\n",
      "dtype: object\n"
     ]
    }
   ],
   "source": [
    "print(df.dtypes)"
   ]
  },
  {
   "cell_type": "markdown",
   "id": "e00aedf1-af19-4e42-9e53-f4653719711e",
   "metadata": {},
   "source": [
    "3. Data Cleaning"
   ]
  },
  {
   "cell_type": "code",
   "execution_count": 10,
   "id": "ae0e363b-bcef-4aea-a1cb-83f10c8b1a17",
   "metadata": {},
   "outputs": [],
   "source": [
    "df = df[df['manufacturer'] != 'Tesla']  #Lacking data for mpg, which impacts decision to choose a car"
   ]
  },
  {
   "cell_type": "code",
   "execution_count": 11,
   "id": "47b30ac7-175b-49c6-9fe7-343cb89973ec",
   "metadata": {},
   "outputs": [
    {
     "name": "stdout",
     "output_type": "stream",
     "text": [
      "manufacturer                0\n",
      "model                       0\n",
      "year                        0\n",
      "mileage                   506\n",
      "engine                  15014\n",
      "transmission             9904\n",
      "drivetrain              21553\n",
      "fuel_type               22917\n",
      "mpg                    136188\n",
      "exterior_color           8688\n",
      "interior_color          56197\n",
      "accidents_or_damage     23688\n",
      "one_owner               30947\n",
      "personal_use_only       24328\n",
      "seller_name              8236\n",
      "seller_rating          212296\n",
      "driver_rating           31266\n",
      "driver_reviews_num          0\n",
      "price_drop             349559\n",
      "price                       0\n",
      "dtype: int64\n"
     ]
    }
   ],
   "source": [
    "missing_data = df.isnull().sum()\n",
    "print(missing_data)"
   ]
  },
  {
   "cell_type": "code",
   "execution_count": 12,
   "id": "d1a54f84-4bcf-480f-8d74-2a2474d8c1e4",
   "metadata": {},
   "outputs": [],
   "source": [
    "# Fill missing mileage grouped by model\n",
    "df['mileage'] = df.groupby('model')['mileage'].transform(lambda x: x.fillna(x.median()))"
   ]
  },
  {
   "cell_type": "code",
   "execution_count": 13,
   "id": "04391301-5390-4c64-8e1a-a950d2d5544a",
   "metadata": {},
   "outputs": [
    {
     "name": "stdout",
     "output_type": "stream",
     "text": [
      "engine                 0\n",
      "transmission           0\n",
      "drivetrain             0\n",
      "fuel_type              0\n",
      "exterior_color         0\n",
      "interior_color         0\n",
      "accidents_or_damage    0\n",
      "one_owner              0\n",
      "personal_use_only      0\n",
      "seller_name            0\n",
      "driver_rating          0\n",
      "dtype: int64\n"
     ]
    }
   ],
   "source": [
    "unknown = ['engine', 'transmission', 'drivetrain', 'fuel_type', 'exterior_color', 'interior_color', \n",
    "          'accidents_or_damage', 'one_owner', 'personal_use_only', 'seller_name', 'driver_rating']\n",
    "\n",
    "df[unknown] = df[unknown].fillna('Unknown')\n",
    "print(df[unknown].isnull().sum())"
   ]
  },
  {
   "cell_type": "code",
   "execution_count": 14,
   "id": "1a159833-fbef-48f9-9841-2e7ade6c8dfa",
   "metadata": {},
   "outputs": [
    {
     "name": "stdout",
     "output_type": "stream",
     "text": [
      "0    39-38\n",
      "1    39-38\n",
      "2    39-38\n",
      "3    39-38\n",
      "4    39-38\n",
      "Name: mpg, dtype: object\n"
     ]
    }
   ],
   "source": [
    "print(df['mpg'].head())"
   ]
  },
  {
   "cell_type": "code",
   "execution_count": 15,
   "id": "91615b21-fe79-4596-aae4-92126aa822ae",
   "metadata": {},
   "outputs": [],
   "source": [
    "def avg_mpg_range(mpg_range):\n",
    "    '''Function to convert string type of mpg ranges and using average of the range'''\n",
    "    if isinstance(mpg_range, str) and '-' in mpg_range:\n",
    "        mpgs = mpg_range.split('-')\n",
    "        try:\n",
    "            return (float(mpgs[0]) + float(mpgs[1])) / 2\n",
    "        except ValueError:\n",
    "            return None \n",
    "    return None"
   ]
  },
  {
   "cell_type": "code",
   "execution_count": 16,
   "id": "15c7a23b-fc5b-4a38-9e6b-b5f8a9d7bfc5",
   "metadata": {},
   "outputs": [],
   "source": [
    "df['mpg'] = df['mpg'].apply(avg_mpg_range)"
   ]
  },
  {
   "cell_type": "code",
   "execution_count": 17,
   "id": "c4e834e3-d7ef-45b6-8ef5-d9d1bd1044e0",
   "metadata": {},
   "outputs": [
    {
     "name": "stdout",
     "output_type": "stream",
     "text": [
      "0    38.5\n",
      "1    38.5\n",
      "2    38.5\n",
      "3    38.5\n",
      "4    38.5\n",
      "Name: mpg, dtype: float64\n"
     ]
    }
   ],
   "source": [
    "print(df['mpg'].head())"
   ]
  },
  {
   "cell_type": "code",
   "execution_count": 18,
   "id": "8b8cc11e-48de-4c91-8e47-7fbecb09cce0",
   "metadata": {},
   "outputs": [],
   "source": [
    "df['mpg'] = df.groupby('model')['mpg'].transform(lambda x: x.fillna(x.median()))"
   ]
  },
  {
   "cell_type": "code",
   "execution_count": 19,
   "id": "a65e04b7-12c6-4a0a-9221-51bada997220",
   "metadata": {},
   "outputs": [],
   "source": [
    "df['mpg'] = df.groupby('manufacturer')['mpg'].transform(lambda x: x.fillna(x.median()))   #perform operation again to make sure mpg column is clean"
   ]
  },
  {
   "cell_type": "code",
   "execution_count": 20,
   "id": "14cdee61-a6ea-4638-afb1-af81814a6cd2",
   "metadata": {},
   "outputs": [],
   "source": [
    "df = df.drop(columns=['price_drop', 'seller_rating'])   #missing ~50% of data for all cars or can't infer"
   ]
  },
  {
   "cell_type": "code",
   "execution_count": 21,
   "id": "34619075-12fa-44e5-976a-7ee128ccb31c",
   "metadata": {},
   "outputs": [
    {
     "name": "stdout",
     "output_type": "stream",
     "text": [
      "manufacturer           0\n",
      "model                  0\n",
      "year                   0\n",
      "mileage                3\n",
      "engine                 0\n",
      "transmission           0\n",
      "drivetrain             0\n",
      "fuel_type              0\n",
      "mpg                    0\n",
      "exterior_color         0\n",
      "interior_color         0\n",
      "accidents_or_damage    0\n",
      "one_owner              0\n",
      "personal_use_only      0\n",
      "seller_name            0\n",
      "driver_rating          0\n",
      "driver_reviews_num     0\n",
      "price                  0\n",
      "dtype: int64\n"
     ]
    }
   ],
   "source": [
    "missing_data = df.isnull().sum()     #verify clean data\n",
    "print(missing_data)"
   ]
  },
  {
   "cell_type": "code",
   "execution_count": 22,
   "id": "29b7367b-40f9-4c3d-bf2a-33d39b728b22",
   "metadata": {},
   "outputs": [
    {
     "name": "stdout",
     "output_type": "stream",
     "text": [
      "Index(['manufacturer', 'model', 'year', 'mileage', 'engine', 'transmission',\n",
      "       'drivetrain', 'fuel_type', 'mpg', 'exterior_color', 'interior_color',\n",
      "       'accidents_or_damage', 'one_owner', 'personal_use_only', 'seller_name',\n",
      "       'driver_rating', 'driver_reviews_num', 'price'],\n",
      "      dtype='object')\n"
     ]
    }
   ],
   "source": [
    "print(df.columns)"
   ]
  },
  {
   "cell_type": "code",
   "execution_count": 23,
   "id": "11899b1b-bf65-479b-88fb-4c8ae0ef5bfa",
   "metadata": {},
   "outputs": [],
   "source": [
    "brand_stats = df.groupby('manufacturer').agg(\n",
    "    median_price=('price', 'median'),   #Using median because some brands have a range of cheap to expensive models, skewing the mean\n",
    "    avg_mileage=('mileage', 'mean'),\n",
    "    avg_mpg=('mpg', 'mean'),\n",
    "    count_cars=('price', 'size')\n",
    ")"
   ]
  },
  {
   "cell_type": "code",
   "execution_count": 24,
   "id": "062dbf40-f3c2-4cde-adba-9af96a15c7cc",
   "metadata": {},
   "outputs": [],
   "source": [
    "brand_stats_sorted = brand_stats.sort_values(by = 'median_price', ascending = True)"
   ]
  },
  {
   "cell_type": "code",
   "execution_count": 25,
   "id": "62aef857-420a-46c5-9c5a-7e997d66a533",
   "metadata": {},
   "outputs": [
    {
     "name": "stdout",
     "output_type": "stream",
     "text": [
      "               median_price   avg_mileage    avg_mpg  count_cars\n",
      "manufacturer                                                    \n",
      "Mitsubishi          19195.0  53517.581665  26.997736        5743\n",
      "Hyundai             20410.0  53910.529455  28.698095       22203\n",
      "Kia                 20998.0  51772.529889  27.988129       35063\n",
      "Nissan              22400.0  55997.521729  26.206026       48529\n",
      "Chrysler            22694.0  72063.956472  22.651538       12647\n",
      "Buick               22908.5  52093.829082  24.748051       14624\n",
      "Volkswagen          22995.0  52229.837510  27.076015       24620\n",
      "Dodge               23196.0  69625.534812  20.360446       25250\n",
      "Mazda               23995.0  51684.661586  27.657995       15485\n",
      "Honda               24998.0  60510.152571  28.126137       37612\n",
      "Subaru              25523.0  54252.908750  27.621089       24767\n",
      "Chevrolet           26950.0  60646.142435  21.229966       56043\n",
      "Jeep                27829.0  52059.029449  21.732917       41665\n",
      "Acura               28797.0  53805.677347  25.330487        8489\n",
      "Toyota              28990.0  62682.904231  27.806622       59535\n",
      "Ford                29487.0  59962.228372  19.674722       79526\n",
      "INFINITI            30000.0  58168.623240  21.932155       12289\n",
      "Lincoln             31795.0  52531.728177  21.994320       10608\n",
      "Jaguar              31998.0  46904.896224  24.034376        3469\n",
      "BMW                 33500.0  49547.388049  23.519351       37570\n",
      "Audi                33952.0  49496.451772  25.900465       17863\n",
      "Cadillac            33995.5  52368.526301  21.460970       17794\n",
      "Lexus               34500.0  59554.408807  24.484555       21301\n",
      "GMC                 35800.0  62295.221104  17.228243       29563\n",
      "Volvo               36673.0  44826.615814  23.749128       10029\n",
      "Mercedes-Benz       39783.5  44618.470825  22.781115       40824\n",
      "RAM                 41492.5  57913.366660   9.025733       19364\n",
      "Land Rover          44990.0  47347.496659  20.269903       12272\n",
      "Porsche             68576.0  34448.611247  20.095716       11461\n"
     ]
    }
   ],
   "source": [
    "print(brand_stats_sorted)"
   ]
  },
  {
   "cell_type": "code",
   "execution_count": 26,
   "id": "c898e4c7-20bd-48d6-a766-8c3668c8299b",
   "metadata": {},
   "outputs": [
    {
     "data": {
      "text/html": [
       "<div>\n",
       "<style scoped>\n",
       "    .dataframe tbody tr th:only-of-type {\n",
       "        vertical-align: middle;\n",
       "    }\n",
       "\n",
       "    .dataframe tbody tr th {\n",
       "        vertical-align: top;\n",
       "    }\n",
       "\n",
       "    .dataframe thead th {\n",
       "        text-align: right;\n",
       "    }\n",
       "</style>\n",
       "<table border=\"1\" class=\"dataframe\">\n",
       "  <thead>\n",
       "    <tr style=\"text-align: right;\">\n",
       "      <th></th>\n",
       "      <th>year</th>\n",
       "      <th>mileage</th>\n",
       "      <th>mpg</th>\n",
       "      <th>driver_reviews_num</th>\n",
       "      <th>price</th>\n",
       "    </tr>\n",
       "  </thead>\n",
       "  <tbody>\n",
       "    <tr>\n",
       "      <th>count</th>\n",
       "      <td>756208.000000</td>\n",
       "      <td>7.562050e+05</td>\n",
       "      <td>756208.000000</td>\n",
       "      <td>756208.000000</td>\n",
       "      <td>7.562080e+05</td>\n",
       "    </tr>\n",
       "    <tr>\n",
       "      <th>mean</th>\n",
       "      <td>2017.781774</td>\n",
       "      <td>5.592385e+04</td>\n",
       "      <td>23.462341</td>\n",
       "      <td>90.037716</td>\n",
       "      <td>3.639094e+04</td>\n",
       "    </tr>\n",
       "    <tr>\n",
       "      <th>std</th>\n",
       "      <td>5.124753</td>\n",
       "      <td>4.363347e+04</td>\n",
       "      <td>8.358704</td>\n",
       "      <td>115.368010</td>\n",
       "      <td>1.991885e+06</td>\n",
       "    </tr>\n",
       "    <tr>\n",
       "      <th>min</th>\n",
       "      <td>1915.000000</td>\n",
       "      <td>0.000000e+00</td>\n",
       "      <td>0.000000</td>\n",
       "      <td>0.000000</td>\n",
       "      <td>1.000000e+00</td>\n",
       "    </tr>\n",
       "    <tr>\n",
       "      <th>25%</th>\n",
       "      <td>2016.000000</td>\n",
       "      <td>2.334500e+04</td>\n",
       "      <td>20.500000</td>\n",
       "      <td>14.000000</td>\n",
       "      <td>1.950000e+04</td>\n",
       "    </tr>\n",
       "    <tr>\n",
       "      <th>50%</th>\n",
       "      <td>2019.000000</td>\n",
       "      <td>4.574900e+04</td>\n",
       "      <td>23.500000</td>\n",
       "      <td>51.000000</td>\n",
       "      <td>2.790000e+04</td>\n",
       "    </tr>\n",
       "    <tr>\n",
       "      <th>75%</th>\n",
       "      <td>2021.000000</td>\n",
       "      <td>7.862100e+04</td>\n",
       "      <td>27.500000</td>\n",
       "      <td>119.000000</td>\n",
       "      <td>3.900000e+04</td>\n",
       "    </tr>\n",
       "    <tr>\n",
       "      <th>max</th>\n",
       "      <td>2024.000000</td>\n",
       "      <td>1.119067e+06</td>\n",
       "      <td>127.500000</td>\n",
       "      <td>1025.000000</td>\n",
       "      <td>1.000000e+09</td>\n",
       "    </tr>\n",
       "  </tbody>\n",
       "</table>\n",
       "</div>"
      ],
      "text/plain": [
       "                year       mileage            mpg  driver_reviews_num  \\\n",
       "count  756208.000000  7.562050e+05  756208.000000       756208.000000   \n",
       "mean     2017.781774  5.592385e+04      23.462341           90.037716   \n",
       "std         5.124753  4.363347e+04       8.358704          115.368010   \n",
       "min      1915.000000  0.000000e+00       0.000000            0.000000   \n",
       "25%      2016.000000  2.334500e+04      20.500000           14.000000   \n",
       "50%      2019.000000  4.574900e+04      23.500000           51.000000   \n",
       "75%      2021.000000  7.862100e+04      27.500000          119.000000   \n",
       "max      2024.000000  1.119067e+06     127.500000         1025.000000   \n",
       "\n",
       "              price  \n",
       "count  7.562080e+05  \n",
       "mean   3.639094e+04  \n",
       "std    1.991885e+06  \n",
       "min    1.000000e+00  \n",
       "25%    1.950000e+04  \n",
       "50%    2.790000e+04  \n",
       "75%    3.900000e+04  \n",
       "max    1.000000e+09  "
      ]
     },
     "execution_count": 26,
     "metadata": {},
     "output_type": "execute_result"
    }
   ],
   "source": [
    "df.describe()"
   ]
  },
  {
   "cell_type": "code",
   "execution_count": 69,
   "id": "0fe2da74-124a-4726-ab57-bc74b36a086d",
   "metadata": {},
   "outputs": [
    {
     "name": "stdout",
     "output_type": "stream",
     "text": [
      "     manufacturer       mileage    price\n",
      "0           Acura  53805.677347  28797.0\n",
      "1            Audi  49496.451772  33952.0\n",
      "2             BMW  49547.388049  33500.0\n",
      "3           Buick  52093.829082  22908.5\n",
      "4        Cadillac  52368.526301  33995.5\n",
      "5       Chevrolet  60646.142435  26950.0\n",
      "6        Chrysler  72063.956472  22694.0\n",
      "7           Dodge  69625.534812  23196.0\n",
      "8            Ford  59962.228372  29487.0\n",
      "9             GMC  62295.221104  35800.0\n",
      "10          Honda  60510.152571  24998.0\n",
      "11        Hyundai  53910.529455  20410.0\n",
      "12       INFINITI  58168.623240  30000.0\n",
      "13         Jaguar  46904.896224  31998.0\n",
      "14           Jeep  52059.029449  27829.0\n",
      "15            Kia  51772.529889  20998.0\n",
      "16     Land Rover  47347.496659  44990.0\n",
      "17          Lexus  59554.408807  34500.0\n",
      "18        Lincoln  52531.728177  31795.0\n",
      "19          Mazda  51684.661586  23995.0\n",
      "20  Mercedes-Benz  44618.470825  39783.5\n",
      "21     Mitsubishi  53517.581665  19195.0\n",
      "22         Nissan  55997.521729  22400.0\n",
      "23        Porsche  34448.611247  68576.0\n",
      "24            RAM  57913.366660  41492.5\n",
      "25         Subaru  54252.908750  25523.0\n",
      "26         Toyota  62682.904231  28990.0\n",
      "27     Volkswagen  52229.837510  22995.0\n",
      "28          Volvo  44826.615814  36673.0\n"
     ]
    }
   ],
   "source": [
    "avg_mileage_price = df.groupby('manufacturer').agg({\n",
    "    'mileage': 'mean',    \n",
    "    'price': 'median'       \n",
    "}).reset_index()\n",
    "\n",
    "print(avg_mileage_price)"
   ]
  },
  {
   "cell_type": "code",
   "execution_count": 101,
   "id": "a5689e2d-892f-481d-bce4-ec7e231bcb1e",
   "metadata": {},
   "outputs": [
    {
     "data": {
      "image/png": "[encoded data removed]",
      "text/plain": [
       "<Figure size 1200x600 with 1 Axes>"
      ]
     },
     "metadata": {},
     "output_type": "display_data"
    }
   ],
   "source": [
    "plt.figure(figsize=(12, 6))\n",
    "plot = sns.scatterplot(data = avg_mileage_price, x = 'mileage', y = 'price')\n",
    "\n",
    "plt.title('Average Mileage vs Median Price by Manufacturer')\n",
    "plt.xlabel('Average Mileage')\n",
    "plt.ylabel('Median Price')\n",
    "plt.xticks(rotation=45)\n",
    "plt.tight_layout()\n",
    "for i, row in avg_mileage_price.iterrows(): \n",
    "    plot.text(row['mileage'], row['price'], row['manufacturer'], ha = 'right', va = 'top')\n",
    "plt.show()"
   ]
  },
  {
   "cell_type": "code",
   "execution_count": null,
   "id": "37b360d6-ca6e-4494-840b-c814b12e2a6b",
   "metadata": {},
   "outputs": [],
   "source": []
  }
 ],
 "metadata": {
  "kernelspec": {
   "display_name": "Python [conda env:base] *",
   "language": "python",
   "name": "conda-base-py"
  },
  "language_info": {
   "codemirror_mode": {
    "name": "ipython",
    "version": 3
   },
   "file_extension": ".py",
   "mimetype": "text/x-python",
   "name": "python",
   "nbconvert_exporter": "python",
   "pygments_lexer": "ipython3",
   "version": "3.11.7"
  }
 },
 "nbformat": 4,
 "nbformat_minor": 5
}
