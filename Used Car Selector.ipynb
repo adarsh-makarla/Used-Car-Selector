{
 "cells": [
  {
   "cell_type": "markdown",
   "id": "8f8fb187-6c4e-4175-8a7a-9e0408a5f5c7",
   "metadata": {},
   "source": [
    "1. Import Libraries"
   ]
  },
  {
   "cell_type": "code",
   "execution_count": 2,
   "id": "257db4c6-2495-434f-82d5-dcbbbf45af9b",
   "metadata": {},
   "outputs": [
    {
     "name": "stdout",
     "output_type": "stream",
     "text": [
      "Requirement already satisfied: xgboost in c:\\users\\makar\\anaconda3\\lib\\site-packages (2.1.3)\n",
      "Requirement already satisfied: numpy in c:\\users\\makar\\anaconda3\\lib\\site-packages (from xgboost) (1.26.4)\n",
      "Requirement already satisfied: scipy in c:\\users\\makar\\anaconda3\\lib\\site-packages (from xgboost) (1.11.4)\n"
     ]
    }
   ],
   "source": [
    "!pip install xgboost"
   ]
  },
  {
   "cell_type": "code",
   "execution_count": 3,
   "id": "79b83ce7-a48f-4ec1-94c6-c493570bec0f",
   "metadata": {},
   "outputs": [],
   "source": [
    "import pandas as pd\n",
    "import numpy as np\n",
    "from xgboost import XGBRegressor\n",
    "from sklearn.model_selection import train_test_split, GridSearchCV, RandomizedSearchCV\n",
    "from sklearn.metrics import mean_squared_error\n",
    "import matplotlib.pyplot as plt\n",
    "import seaborn as sns"
   ]
  },
  {
   "cell_type": "markdown",
   "id": "91425f74-e750-4970-be49-7ea131144e91",
   "metadata": {},
   "source": [
    "2. Upload Dataset"
   ]
  },
  {
   "cell_type": "code",
   "execution_count": 5,
   "id": "9d2a39c4-b402-4064-ac2c-54b75657b4db",
   "metadata": {},
   "outputs": [],
   "source": [
    "df = pd.read_csv('.\\data\\cars.csv')"
   ]
  },
  {
   "cell_type": "code",
   "execution_count": 6,
   "id": "326d82b5-8fd0-44e2-949b-f0694e89d148",
   "metadata": {},
   "outputs": [
    {
     "data": {
      "text/html": [
       "<div>\n",
       "<style scoped>\n",
       "    .dataframe tbody tr th:only-of-type {\n",
       "        vertical-align: middle;\n",
       "    }\n",
       "\n",
       "    .dataframe tbody tr th {\n",
       "        vertical-align: top;\n",
       "    }\n",
       "\n",
       "    .dataframe thead th {\n",
       "        text-align: right;\n",
       "    }\n",
       "</style>\n",
       "<table border=\"1\" class=\"dataframe\">\n",
       "  <thead>\n",
       "    <tr style=\"text-align: right;\">\n",
       "      <th></th>\n",
       "      <th>manufacturer</th>\n",
       "      <th>model</th>\n",
       "      <th>year</th>\n",
       "      <th>mileage</th>\n",
       "      <th>engine</th>\n",
       "      <th>transmission</th>\n",
       "      <th>drivetrain</th>\n",
       "      <th>fuel_type</th>\n",
       "      <th>mpg</th>\n",
       "      <th>exterior_color</th>\n",
       "      <th>interior_color</th>\n",
       "      <th>accidents_or_damage</th>\n",
       "      <th>one_owner</th>\n",
       "      <th>personal_use_only</th>\n",
       "      <th>seller_name</th>\n",
       "      <th>seller_rating</th>\n",
       "      <th>driver_rating</th>\n",
       "      <th>driver_reviews_num</th>\n",
       "      <th>price_drop</th>\n",
       "      <th>price</th>\n",
       "    </tr>\n",
       "  </thead>\n",
       "  <tbody>\n",
       "    <tr>\n",
       "      <th>0</th>\n",
       "      <td>Acura</td>\n",
       "      <td>ILX Hybrid 1.5L</td>\n",
       "      <td>2013</td>\n",
       "      <td>92945.0</td>\n",
       "      <td>1.5L I-4 i-VTEC variable valve control, engine...</td>\n",
       "      <td>Automatic</td>\n",
       "      <td>Front-wheel Drive</td>\n",
       "      <td>Gasoline</td>\n",
       "      <td>39-38</td>\n",
       "      <td>Black</td>\n",
       "      <td>Parchment</td>\n",
       "      <td>0.0</td>\n",
       "      <td>0.0</td>\n",
       "      <td>0.0</td>\n",
       "      <td>Iconic Coach</td>\n",
       "      <td>NaN</td>\n",
       "      <td>4.4</td>\n",
       "      <td>12.0</td>\n",
       "      <td>300.0</td>\n",
       "      <td>13988.0</td>\n",
       "    </tr>\n",
       "    <tr>\n",
       "      <th>1</th>\n",
       "      <td>Acura</td>\n",
       "      <td>ILX Hybrid 1.5L</td>\n",
       "      <td>2013</td>\n",
       "      <td>47645.0</td>\n",
       "      <td>1.5L I4 8V MPFI SOHC Hybrid</td>\n",
       "      <td>Automatic CVT</td>\n",
       "      <td>Front-wheel Drive</td>\n",
       "      <td>Hybrid</td>\n",
       "      <td>39-38</td>\n",
       "      <td>Gray</td>\n",
       "      <td>Ebony</td>\n",
       "      <td>1.0</td>\n",
       "      <td>1.0</td>\n",
       "      <td>1.0</td>\n",
       "      <td>Kars Today</td>\n",
       "      <td>NaN</td>\n",
       "      <td>4.4</td>\n",
       "      <td>12.0</td>\n",
       "      <td>NaN</td>\n",
       "      <td>17995.0</td>\n",
       "    </tr>\n",
       "    <tr>\n",
       "      <th>2</th>\n",
       "      <td>Acura</td>\n",
       "      <td>ILX Hybrid 1.5L</td>\n",
       "      <td>2013</td>\n",
       "      <td>53422.0</td>\n",
       "      <td>1.5L I4 8V MPFI SOHC Hybrid</td>\n",
       "      <td>Automatic CVT</td>\n",
       "      <td>Front-wheel Drive</td>\n",
       "      <td>Hybrid</td>\n",
       "      <td>39-38</td>\n",
       "      <td>Bellanova White Pearl</td>\n",
       "      <td>Ebony</td>\n",
       "      <td>0.0</td>\n",
       "      <td>1.0</td>\n",
       "      <td>1.0</td>\n",
       "      <td>Weiss Toyota of South County</td>\n",
       "      <td>4.3</td>\n",
       "      <td>4.4</td>\n",
       "      <td>12.0</td>\n",
       "      <td>500.0</td>\n",
       "      <td>17000.0</td>\n",
       "    </tr>\n",
       "    <tr>\n",
       "      <th>3</th>\n",
       "      <td>Acura</td>\n",
       "      <td>ILX Hybrid 1.5L</td>\n",
       "      <td>2013</td>\n",
       "      <td>117598.0</td>\n",
       "      <td>1.5L I4 8V MPFI SOHC Hybrid</td>\n",
       "      <td>Automatic CVT</td>\n",
       "      <td>Front-wheel Drive</td>\n",
       "      <td>Hybrid</td>\n",
       "      <td>39-38</td>\n",
       "      <td>Polished Metal Metallic</td>\n",
       "      <td>NaN</td>\n",
       "      <td>0.0</td>\n",
       "      <td>1.0</td>\n",
       "      <td>1.0</td>\n",
       "      <td>Apple Tree Acura</td>\n",
       "      <td>NaN</td>\n",
       "      <td>4.4</td>\n",
       "      <td>12.0</td>\n",
       "      <td>675.0</td>\n",
       "      <td>14958.0</td>\n",
       "    </tr>\n",
       "    <tr>\n",
       "      <th>4</th>\n",
       "      <td>Acura</td>\n",
       "      <td>ILX Hybrid 1.5L</td>\n",
       "      <td>2013</td>\n",
       "      <td>114865.0</td>\n",
       "      <td>1.5L I4 8V MPFI SOHC Hybrid</td>\n",
       "      <td>Automatic CVT</td>\n",
       "      <td>Front-wheel Drive</td>\n",
       "      <td>Hybrid</td>\n",
       "      <td>39-38</td>\n",
       "      <td>NaN</td>\n",
       "      <td>Ebony</td>\n",
       "      <td>1.0</td>\n",
       "      <td>0.0</td>\n",
       "      <td>1.0</td>\n",
       "      <td>Herb Connolly Chevrolet</td>\n",
       "      <td>3.7</td>\n",
       "      <td>4.4</td>\n",
       "      <td>12.0</td>\n",
       "      <td>300.0</td>\n",
       "      <td>14498.0</td>\n",
       "    </tr>\n",
       "  </tbody>\n",
       "</table>\n",
       "</div>"
      ],
      "text/plain": [
       "  manufacturer            model  year   mileage  \\\n",
       "0        Acura  ILX Hybrid 1.5L  2013   92945.0   \n",
       "1        Acura  ILX Hybrid 1.5L  2013   47645.0   \n",
       "2        Acura  ILX Hybrid 1.5L  2013   53422.0   \n",
       "3        Acura  ILX Hybrid 1.5L  2013  117598.0   \n",
       "4        Acura  ILX Hybrid 1.5L  2013  114865.0   \n",
       "\n",
       "                                              engine   transmission  \\\n",
       "0  1.5L I-4 i-VTEC variable valve control, engine...      Automatic   \n",
       "1                        1.5L I4 8V MPFI SOHC Hybrid  Automatic CVT   \n",
       "2                        1.5L I4 8V MPFI SOHC Hybrid  Automatic CVT   \n",
       "3                        1.5L I4 8V MPFI SOHC Hybrid  Automatic CVT   \n",
       "4                        1.5L I4 8V MPFI SOHC Hybrid  Automatic CVT   \n",
       "\n",
       "          drivetrain fuel_type    mpg           exterior_color interior_color  \\\n",
       "0  Front-wheel Drive  Gasoline  39-38                    Black      Parchment   \n",
       "1  Front-wheel Drive    Hybrid  39-38                     Gray          Ebony   \n",
       "2  Front-wheel Drive    Hybrid  39-38    Bellanova White Pearl          Ebony   \n",
       "3  Front-wheel Drive    Hybrid  39-38  Polished Metal Metallic            NaN   \n",
       "4  Front-wheel Drive    Hybrid  39-38                      NaN          Ebony   \n",
       "\n",
       "   accidents_or_damage  one_owner  personal_use_only  \\\n",
       "0                  0.0        0.0                0.0   \n",
       "1                  1.0        1.0                1.0   \n",
       "2                  0.0        1.0                1.0   \n",
       "3                  0.0        1.0                1.0   \n",
       "4                  1.0        0.0                1.0   \n",
       "\n",
       "                    seller_name  seller_rating  driver_rating  \\\n",
       "0                  Iconic Coach            NaN            4.4   \n",
       "1                    Kars Today            NaN            4.4   \n",
       "2  Weiss Toyota of South County            4.3            4.4   \n",
       "3              Apple Tree Acura            NaN            4.4   \n",
       "4       Herb Connolly Chevrolet            3.7            4.4   \n",
       "\n",
       "   driver_reviews_num  price_drop    price  \n",
       "0                12.0       300.0  13988.0  \n",
       "1                12.0         NaN  17995.0  \n",
       "2                12.0       500.0  17000.0  \n",
       "3                12.0       675.0  14958.0  \n",
       "4                12.0       300.0  14498.0  "
      ]
     },
     "execution_count": 6,
     "metadata": {},
     "output_type": "execute_result"
    }
   ],
   "source": [
    "df.head()"
   ]
  },
  {
   "cell_type": "code",
   "execution_count": 7,
   "id": "90125601-ea3f-43cf-8b80-192ec36715a3",
   "metadata": {},
   "outputs": [
    {
     "data": {
      "text/plain": [
       "(762091, 20)"
      ]
     },
     "execution_count": 7,
     "metadata": {},
     "output_type": "execute_result"
    }
   ],
   "source": [
    "df.shape"
   ]
  },
  {
   "cell_type": "code",
   "execution_count": 8,
   "id": "ae7ac237-b607-478e-8b91-1508a2170866",
   "metadata": {},
   "outputs": [
    {
     "name": "stdout",
     "output_type": "stream",
     "text": [
      "manufacturer            object\n",
      "model                   object\n",
      "year                     int64\n",
      "mileage                float64\n",
      "engine                  object\n",
      "transmission            object\n",
      "drivetrain              object\n",
      "fuel_type               object\n",
      "mpg                     object\n",
      "exterior_color          object\n",
      "interior_color          object\n",
      "accidents_or_damage    float64\n",
      "one_owner              float64\n",
      "personal_use_only      float64\n",
      "seller_name             object\n",
      "seller_rating          float64\n",
      "driver_rating          float64\n",
      "driver_reviews_num     float64\n",
      "price_drop             float64\n",
      "price                  float64\n",
      "dtype: object\n"
     ]
    }
   ],
   "source": [
    "print(df.dtypes)"
   ]
  },
  {
   "cell_type": "markdown",
   "id": "e00aedf1-af19-4e42-9e53-f4653719711e",
   "metadata": {},
   "source": [
    "3. Data Cleaning"
   ]
  },
  {
   "cell_type": "code",
   "execution_count": 10,
   "id": "ae0e363b-bcef-4aea-a1cb-83f10c8b1a17",
   "metadata": {},
   "outputs": [],
   "source": [
    "df = df[df['manufacturer'] != 'Tesla']  #Lacking data for mpg, which impacts decision to choose a car"
   ]
  },
  {
   "cell_type": "code",
   "execution_count": 11,
   "id": "47b30ac7-175b-49c6-9fe7-343cb89973ec",
   "metadata": {},
   "outputs": [
    {
     "name": "stdout",
     "output_type": "stream",
     "text": [
      "manufacturer                0\n",
      "model                       0\n",
      "year                        0\n",
      "mileage                   506\n",
      "engine                  15014\n",
      "transmission             9904\n",
      "drivetrain              21553\n",
      "fuel_type               22917\n",
      "mpg                    136188\n",
      "exterior_color           8688\n",
      "interior_color          56197\n",
      "accidents_or_damage     23688\n",
      "one_owner               30947\n",
      "personal_use_only       24328\n",
      "seller_name              8236\n",
      "seller_rating          212296\n",
      "driver_rating           31266\n",
      "driver_reviews_num          0\n",
      "price_drop             349559\n",
      "price                       0\n",
      "dtype: int64\n"
     ]
    }
   ],
   "source": [
    "missing_data = df.isnull().sum()\n",
    "print(missing_data)"
   ]
  },
  {
   "cell_type": "code",
   "execution_count": 12,
   "id": "339454fe-c03b-4b4a-b5bc-dcea0b741772",
   "metadata": {},
   "outputs": [
    {
     "name": "stdout",
     "output_type": "stream",
     "text": [
      "[1990, 1991, 1992, 1993, 1994, 1995, 1996, 1997, 1998, 1999, 2000, 2001, 2002, 2003, 2004, 2005, 2006, 2007, 2008, 2009, 2010, 2011, 2012, 2013, 2014, 2015, 2016, 2017, 2018, 2019, 2020, 2021, 2022, 2023, 2024]\n"
     ]
    }
   ],
   "source": [
    "df = df[df['year'] >= 1990]\n",
    "print(sorted(df['year'].unique()))"
   ]
  },
  {
   "cell_type": "code",
   "execution_count": 13,
   "id": "e8d7b91a-bb57-41d8-b4ce-035522a9c427",
   "metadata": {},
   "outputs": [],
   "source": [
    "df = df[df['mileage'] < 300000]   #data contains outliers with some cars over 900k miles"
   ]
  },
  {
   "cell_type": "code",
   "execution_count": 14,
   "id": "8fa75e95-62d5-4eb1-ae8d-d6c0c79eff28",
   "metadata": {},
   "outputs": [],
   "source": [
    "df = df[df['price'] < 200000]   #data contains outliers with some cars costing 500k+"
   ]
  },
  {
   "cell_type": "code",
   "execution_count": 15,
   "id": "d1a54f84-4bcf-480f-8d74-2a2474d8c1e4",
   "metadata": {},
   "outputs": [],
   "source": [
    "# Fill missing mileage grouped by model\n",
    "df['mileage'] = df.groupby('model')['mileage'].transform(lambda x: x.fillna(x.median()))"
   ]
  },
  {
   "cell_type": "code",
   "execution_count": 16,
   "id": "04391301-5390-4c64-8e1a-a950d2d5544a",
   "metadata": {},
   "outputs": [
    {
     "name": "stdout",
     "output_type": "stream",
     "text": [
      "engine                 14482\n",
      "transmission            9593\n",
      "drivetrain             19598\n",
      "fuel_type              21208\n",
      "exterior_color          8513\n",
      "interior_color         55475\n",
      "accidents_or_damage    23514\n",
      "one_owner              28745\n",
      "personal_use_only      23627\n",
      "seller_name             8161\n",
      "driver_rating          28968\n",
      "dtype: int64\n"
     ]
    }
   ],
   "source": [
    "unknown = ['engine', 'transmission', 'drivetrain', 'fuel_type', 'exterior_color', 'interior_color', \n",
    "          'accidents_or_damage', 'one_owner', 'personal_use_only', 'seller_name', 'driver_rating']\n",
    "\n",
    "df[unknown] = df[unknown].fillna(np.nan)\n",
    "print(df[unknown].isnull().sum())"
   ]
  },
  {
   "cell_type": "code",
   "execution_count": 17,
   "id": "1a159833-fbef-48f9-9841-2e7ade6c8dfa",
   "metadata": {},
   "outputs": [
    {
     "name": "stdout",
     "output_type": "stream",
     "text": [
      "0    39-38\n",
      "1    39-38\n",
      "2    39-38\n",
      "3    39-38\n",
      "4    39-38\n",
      "Name: mpg, dtype: object\n"
     ]
    }
   ],
   "source": [
    "print(df['mpg'].head())"
   ]
  },
  {
   "cell_type": "code",
   "execution_count": 18,
   "id": "91615b21-fe79-4596-aae4-92126aa822ae",
   "metadata": {},
   "outputs": [],
   "source": [
    "def avg_mpg_range(mpg_range):\n",
    "    '''Function to convert string type of mpg ranges and using average of the range'''\n",
    "    if isinstance(mpg_range, str) and '-' in mpg_range:\n",
    "        mpgs = mpg_range.split('-')\n",
    "        try:\n",
    "            return (float(mpgs[0]) + float(mpgs[1])) / 2\n",
    "        except ValueError:\n",
    "            return None \n",
    "    return None"
   ]
  },
  {
   "cell_type": "code",
   "execution_count": 19,
   "id": "15c7a23b-fc5b-4a38-9e6b-b5f8a9d7bfc5",
   "metadata": {},
   "outputs": [],
   "source": [
    "df['mpg'] = df['mpg'].apply(avg_mpg_range)"
   ]
  },
  {
   "cell_type": "code",
   "execution_count": 20,
   "id": "c4e834e3-d7ef-45b6-8ef5-d9d1bd1044e0",
   "metadata": {},
   "outputs": [
    {
     "name": "stdout",
     "output_type": "stream",
     "text": [
      "0    38.5\n",
      "1    38.5\n",
      "2    38.5\n",
      "3    38.5\n",
      "4    38.5\n",
      "Name: mpg, dtype: float64\n"
     ]
    }
   ],
   "source": [
    "print(df['mpg'].head())"
   ]
  },
  {
   "cell_type": "code",
   "execution_count": 21,
   "id": "8b8cc11e-48de-4c91-8e47-7fbecb09cce0",
   "metadata": {},
   "outputs": [],
   "source": [
    "df['mpg'] = df.groupby('model')['mpg'].transform(lambda x: x.fillna(x.median()))"
   ]
  },
  {
   "cell_type": "code",
   "execution_count": 22,
   "id": "a65e04b7-12c6-4a0a-9221-51bada997220",
   "metadata": {},
   "outputs": [],
   "source": [
    "df['mpg'] = df.groupby('manufacturer')['mpg'].transform(lambda x: x.fillna(x.median()))   #perform operation again to make sure mpg column is clean"
   ]
  },
  {
   "cell_type": "code",
   "execution_count": 23,
   "id": "14cdee61-a6ea-4638-afb1-af81814a6cd2",
   "metadata": {},
   "outputs": [],
   "source": [
    "df = df.drop(columns=['price_drop', 'seller_rating'])   #missing ~50% of data for all cars or can't infer"
   ]
  },
  {
   "cell_type": "code",
   "execution_count": 24,
   "id": "f3bf0182-8762-49d3-a11f-af2aaddf23a4",
   "metadata": {},
   "outputs": [
    {
     "data": {
      "text/plain": [
       "(750908, 18)"
      ]
     },
     "execution_count": 24,
     "metadata": {},
     "output_type": "execute_result"
    }
   ],
   "source": [
    "df.shape"
   ]
  },
  {
   "cell_type": "code",
   "execution_count": 25,
   "id": "29b7367b-40f9-4c3d-bf2a-33d39b728b22",
   "metadata": {},
   "outputs": [
    {
     "name": "stdout",
     "output_type": "stream",
     "text": [
      "Index(['manufacturer', 'model', 'year', 'mileage', 'engine', 'transmission',\n",
      "       'drivetrain', 'fuel_type', 'mpg', 'exterior_color', 'interior_color',\n",
      "       'accidents_or_damage', 'one_owner', 'personal_use_only', 'seller_name',\n",
      "       'driver_rating', 'driver_reviews_num', 'price'],\n",
      "      dtype='object')\n"
     ]
    }
   ],
   "source": [
    "print(df.columns)"
   ]
  },
  {
   "cell_type": "code",
   "execution_count": 26,
   "id": "34619075-12fa-44e5-976a-7ee128ccb31c",
   "metadata": {},
   "outputs": [
    {
     "name": "stdout",
     "output_type": "stream",
     "text": [
      "manufacturer               0\n",
      "model                      0\n",
      "year                       0\n",
      "mileage                    0\n",
      "engine                 14482\n",
      "transmission            9593\n",
      "drivetrain             19598\n",
      "fuel_type              21208\n",
      "mpg                        0\n",
      "exterior_color          8513\n",
      "interior_color         55475\n",
      "accidents_or_damage    23514\n",
      "one_owner              28745\n",
      "personal_use_only      23627\n",
      "seller_name             8161\n",
      "driver_rating          28968\n",
      "driver_reviews_num         0\n",
      "price                      0\n",
      "dtype: int64\n"
     ]
    }
   ],
   "source": [
    "missing_data = df.isnull().sum()     #verify clean data\n",
    "print(missing_data)"
   ]
  },
  {
   "cell_type": "code",
   "execution_count": 27,
   "id": "11899b1b-bf65-479b-88fb-4c8ae0ef5bfa",
   "metadata": {},
   "outputs": [],
   "source": [
    "brand_stats = df.groupby('manufacturer').agg(\n",
    "    median_price=('price', 'median'),   #Using median because some brands have a range of cheap to expensive models, skewing the mean\n",
    "    avg_mileage=('mileage', 'mean'),\n",
    "    avg_mpg=('mpg', 'mean'),\n",
    "    count_cars=('price', 'size')\n",
    ")"
   ]
  },
  {
   "cell_type": "code",
   "execution_count": 28,
   "id": "062dbf40-f3c2-4cde-adba-9af96a15c7cc",
   "metadata": {},
   "outputs": [],
   "source": [
    "brand_stats_sorted = brand_stats.sort_values(by = 'median_price', ascending = True)"
   ]
  },
  {
   "cell_type": "code",
   "execution_count": 29,
   "id": "62aef857-420a-46c5-9c5a-7e997d66a533",
   "metadata": {},
   "outputs": [
    {
     "name": "stdout",
     "output_type": "stream",
     "text": [
      "               median_price   avg_mileage    avg_mpg  count_cars\n",
      "manufacturer                                                    \n",
      "Mitsubishi          19195.0  53395.226076  27.001482        5737\n",
      "Hyundai             20400.0  53916.830681  28.700550       22183\n",
      "Kia                 20998.0  51770.727532  27.987753       35050\n",
      "Nissan              22400.0  55906.604878  26.220368       48461\n",
      "Chrysler            22699.5  71991.432027  22.687143       12608\n",
      "Buick               22900.0  52034.359366  24.883127       14520\n",
      "Volkswagen          22995.0  52256.934880  27.154108       24478\n",
      "Dodge               23152.0  69289.541127  20.438559       25081\n",
      "Mazda               23995.0  51645.378461  27.671219       15460\n",
      "Honda               24998.0  60329.223742  28.129387       37579\n",
      "Subaru              25513.0  54235.719892  27.620757       24744\n",
      "Chevrolet           26700.0  60910.215695  21.583224       54897\n",
      "Jeep                27820.0  51991.321226  21.755208       41572\n",
      "Acura               28790.0  53658.198914  25.336914        8471\n",
      "Toyota              28990.0  62376.867302  27.830595       59368\n",
      "Ford                29395.0  59841.661140  19.841659       78655\n",
      "INFINITI            30000.0  58099.479192  21.932140       12279\n",
      "Lincoln             31894.5  52315.387091  22.114028       10504\n",
      "Jaguar              31995.0  47448.474822  24.199274        3376\n",
      "BMW                 33500.0  49532.499880  23.532574       37491\n",
      "Audi                33940.0  49521.877390  25.909738       17837\n",
      "Cadillac            33997.0  52404.605039  21.574977       17622\n",
      "Lexus               34500.0  59422.488251  24.488310       21278\n",
      "GMC                 35882.0  62029.228007  17.250604       29486\n",
      "Volvo               36695.0  44685.689452  23.756412       10021\n",
      "Mercedes-Benz       39346.5  44847.713395  22.985009       40090\n",
      "RAM                 41500.0  57464.037723   9.039213       19325\n",
      "Land Rover          44895.0  47611.017121  20.353753       12149\n",
      "Porsche             64995.0  35941.373701  20.348668       10586\n"
     ]
    }
   ],
   "source": [
    "print(brand_stats_sorted)"
   ]
  },
  {
   "cell_type": "code",
   "execution_count": 30,
   "id": "c898e4c7-20bd-48d6-a766-8c3668c8299b",
   "metadata": {},
   "outputs": [
    {
     "data": {
      "text/html": [
       "<div>\n",
       "<style scoped>\n",
       "    .dataframe tbody tr th:only-of-type {\n",
       "        vertical-align: middle;\n",
       "    }\n",
       "\n",
       "    .dataframe tbody tr th {\n",
       "        vertical-align: top;\n",
       "    }\n",
       "\n",
       "    .dataframe thead th {\n",
       "        text-align: right;\n",
       "    }\n",
       "</style>\n",
       "<table border=\"1\" class=\"dataframe\">\n",
       "  <thead>\n",
       "    <tr style=\"text-align: right;\">\n",
       "      <th></th>\n",
       "      <th>year</th>\n",
       "      <th>mileage</th>\n",
       "      <th>mpg</th>\n",
       "      <th>accidents_or_damage</th>\n",
       "      <th>one_owner</th>\n",
       "      <th>personal_use_only</th>\n",
       "      <th>driver_rating</th>\n",
       "      <th>driver_reviews_num</th>\n",
       "      <th>price</th>\n",
       "    </tr>\n",
       "  </thead>\n",
       "  <tbody>\n",
       "    <tr>\n",
       "      <th>count</th>\n",
       "      <td>750908.000000</td>\n",
       "      <td>750908.000000</td>\n",
       "      <td>750908.000000</td>\n",
       "      <td>727394.000000</td>\n",
       "      <td>722163.000000</td>\n",
       "      <td>727281.000000</td>\n",
       "      <td>721940.000000</td>\n",
       "      <td>750908.000000</td>\n",
       "      <td>750908.000000</td>\n",
       "    </tr>\n",
       "    <tr>\n",
       "      <th>mean</th>\n",
       "      <td>2017.978325</td>\n",
       "      <td>55904.551697</td>\n",
       "      <td>23.554764</td>\n",
       "      <td>0.230347</td>\n",
       "      <td>0.561834</td>\n",
       "      <td>0.655137</td>\n",
       "      <td>4.625141</td>\n",
       "      <td>90.611433</td>\n",
       "      <td>31876.750764</td>\n",
       "    </tr>\n",
       "    <tr>\n",
       "      <th>std</th>\n",
       "      <td>4.039667</td>\n",
       "      <td>42954.737198</td>\n",
       "      <td>8.273533</td>\n",
       "      <td>0.421055</td>\n",
       "      <td>0.496162</td>\n",
       "      <td>0.475324</td>\n",
       "      <td>0.274761</td>\n",
       "      <td>115.544252</td>\n",
       "      <td>19522.698758</td>\n",
       "    </tr>\n",
       "    <tr>\n",
       "      <th>min</th>\n",
       "      <td>1990.000000</td>\n",
       "      <td>0.000000</td>\n",
       "      <td>0.000000</td>\n",
       "      <td>0.000000</td>\n",
       "      <td>0.000000</td>\n",
       "      <td>0.000000</td>\n",
       "      <td>1.000000</td>\n",
       "      <td>0.000000</td>\n",
       "      <td>1.000000</td>\n",
       "    </tr>\n",
       "    <tr>\n",
       "      <th>25%</th>\n",
       "      <td>2016.000000</td>\n",
       "      <td>23508.000000</td>\n",
       "      <td>20.500000</td>\n",
       "      <td>0.000000</td>\n",
       "      <td>0.000000</td>\n",
       "      <td>0.000000</td>\n",
       "      <td>4.500000</td>\n",
       "      <td>15.000000</td>\n",
       "      <td>19499.000000</td>\n",
       "    </tr>\n",
       "    <tr>\n",
       "      <th>50%</th>\n",
       "      <td>2019.000000</td>\n",
       "      <td>45846.500000</td>\n",
       "      <td>23.500000</td>\n",
       "      <td>0.000000</td>\n",
       "      <td>1.000000</td>\n",
       "      <td>1.000000</td>\n",
       "      <td>4.700000</td>\n",
       "      <td>52.000000</td>\n",
       "      <td>27888.000000</td>\n",
       "    </tr>\n",
       "    <tr>\n",
       "      <th>75%</th>\n",
       "      <td>2021.000000</td>\n",
       "      <td>78665.000000</td>\n",
       "      <td>27.500000</td>\n",
       "      <td>0.000000</td>\n",
       "      <td>1.000000</td>\n",
       "      <td>1.000000</td>\n",
       "      <td>4.800000</td>\n",
       "      <td>120.000000</td>\n",
       "      <td>38997.000000</td>\n",
       "    </tr>\n",
       "    <tr>\n",
       "      <th>max</th>\n",
       "      <td>2024.000000</td>\n",
       "      <td>299999.000000</td>\n",
       "      <td>127.500000</td>\n",
       "      <td>1.000000</td>\n",
       "      <td>1.000000</td>\n",
       "      <td>1.000000</td>\n",
       "      <td>5.000000</td>\n",
       "      <td>1025.000000</td>\n",
       "      <td>199999.000000</td>\n",
       "    </tr>\n",
       "  </tbody>\n",
       "</table>\n",
       "</div>"
      ],
      "text/plain": [
       "                year        mileage            mpg  accidents_or_damage  \\\n",
       "count  750908.000000  750908.000000  750908.000000        727394.000000   \n",
       "mean     2017.978325   55904.551697      23.554764             0.230347   \n",
       "std         4.039667   42954.737198       8.273533             0.421055   \n",
       "min      1990.000000       0.000000       0.000000             0.000000   \n",
       "25%      2016.000000   23508.000000      20.500000             0.000000   \n",
       "50%      2019.000000   45846.500000      23.500000             0.000000   \n",
       "75%      2021.000000   78665.000000      27.500000             0.000000   \n",
       "max      2024.000000  299999.000000     127.500000             1.000000   \n",
       "\n",
       "           one_owner  personal_use_only  driver_rating  driver_reviews_num  \\\n",
       "count  722163.000000      727281.000000  721940.000000       750908.000000   \n",
       "mean        0.561834           0.655137       4.625141           90.611433   \n",
       "std         0.496162           0.475324       0.274761          115.544252   \n",
       "min         0.000000           0.000000       1.000000            0.000000   \n",
       "25%         0.000000           0.000000       4.500000           15.000000   \n",
       "50%         1.000000           1.000000       4.700000           52.000000   \n",
       "75%         1.000000           1.000000       4.800000          120.000000   \n",
       "max         1.000000           1.000000       5.000000         1025.000000   \n",
       "\n",
       "               price  \n",
       "count  750908.000000  \n",
       "mean    31876.750764  \n",
       "std     19522.698758  \n",
       "min         1.000000  \n",
       "25%     19499.000000  \n",
       "50%     27888.000000  \n",
       "75%     38997.000000  \n",
       "max    199999.000000  "
      ]
     },
     "execution_count": 30,
     "metadata": {},
     "output_type": "execute_result"
    }
   ],
   "source": [
    "df.describe()"
   ]
  },
  {
   "cell_type": "markdown",
   "id": "5c1fdf64-9ed3-4355-9950-5015917eb4ad",
   "metadata": {},
   "source": [
    "4. Correlation"
   ]
  },
  {
   "cell_type": "code",
   "execution_count": 32,
   "id": "0fe2da74-124a-4726-ab57-bc74b36a086d",
   "metadata": {},
   "outputs": [
    {
     "name": "stdout",
     "output_type": "stream",
     "text": [
      "     manufacturer       mileage    price\n",
      "0           Acura  53658.198914  28790.0\n",
      "1            Audi  49521.877390  33940.0\n",
      "2             BMW  49532.499880  33500.0\n",
      "3           Buick  52034.359366  22900.0\n",
      "4        Cadillac  52404.605039  33997.0\n",
      "5       Chevrolet  60910.215695  26700.0\n",
      "6        Chrysler  71991.432027  22699.5\n",
      "7           Dodge  69289.541127  23152.0\n",
      "8            Ford  59841.661140  29395.0\n",
      "9             GMC  62029.228007  35882.0\n",
      "10          Honda  60329.223742  24998.0\n",
      "11        Hyundai  53916.830681  20400.0\n",
      "12       INFINITI  58099.479192  30000.0\n",
      "13         Jaguar  47448.474822  31995.0\n",
      "14           Jeep  51991.321226  27820.0\n",
      "15            Kia  51770.727532  20998.0\n",
      "16     Land Rover  47611.017121  44895.0\n",
      "17          Lexus  59422.488251  34500.0\n",
      "18        Lincoln  52315.387091  31894.5\n",
      "19          Mazda  51645.378461  23995.0\n",
      "20  Mercedes-Benz  44847.713395  39346.5\n",
      "21     Mitsubishi  53395.226076  19195.0\n",
      "22         Nissan  55906.604878  22400.0\n",
      "23        Porsche  35941.373701  64995.0\n",
      "24            RAM  57464.037723  41500.0\n",
      "25         Subaru  54235.719892  25513.0\n",
      "26         Toyota  62376.867302  28990.0\n",
      "27     Volkswagen  52256.934880  22995.0\n",
      "28          Volvo  44685.689452  36695.0\n"
     ]
    }
   ],
   "source": [
    "avg_mileage_price = df.groupby('manufacturer').agg({\n",
    "    'mileage': 'mean',    \n",
    "    'price': 'median'       \n",
    "}).reset_index()\n",
    "\n",
    "print(avg_mileage_price)"
   ]
  },
  {
   "cell_type": "code",
   "execution_count": 33,
   "id": "a5689e2d-892f-481d-bce4-ec7e231bcb1e",
   "metadata": {},
   "outputs": [
    {
     "data": {
      "image/png": "[encoded data removed]",
      "text/plain": [
       "<Figure size 1200x600 with 1 Axes>"
      ]
     },
     "metadata": {},
     "output_type": "display_data"
    }
   ],
   "source": [
    "plt.figure(figsize=(12, 6))\n",
    "plot = sns.scatterplot(data = avg_mileage_price, x = 'mileage', y = 'price')\n",
    "\n",
    "plt.title('Average Mileage vs Median Price by Manufacturer')\n",
    "plt.xlabel('Average Mileage')\n",
    "plt.ylabel('Median Price')\n",
    "plt.xticks(rotation=45)\n",
    "plt.tight_layout()\n",
    "for i, row in avg_mileage_price.iterrows(): \n",
    "    plot.text(row['mileage'], row['price'], row['manufacturer'], ha = 'right', va = 'top')\n",
    "plt.show()"
   ]
  },
  {
   "cell_type": "code",
   "execution_count": 34,
   "id": "37b360d6-ca6e-4494-840b-c814b12e2a6b",
   "metadata": {},
   "outputs": [
    {
     "data": {
      "text/plain": [
       "<Axes: >"
      ]
     },
     "execution_count": 34,
     "metadata": {},
     "output_type": "execute_result"
    },
    {
     "data": {
      "image/png": "[encoded data removed]",
      "text/plain": [
       "<Figure size 1000x600 with 2 Axes>"
      ]
     },
     "metadata": {},
     "output_type": "display_data"
    }
   ],
   "source": [
    "plt.figure(figsize = (10, 6))\n",
    "\n",
    "corr_cols = ['price', 'mileage', 'year', 'driver_rating', 'mpg',\n",
    "            'accidents_or_damage', 'one_owner', 'personal_use_only']\n",
    "\n",
    "matrix = df[corr_cols].corr()\n",
    "\n",
    "sns.heatmap(matrix, annot = True, cbar = True, linewidth = 0.5, cmap = 'rocket')  #correlation between non-categorical features\n"
   ]
  },
  {
   "cell_type": "markdown",
   "id": "699279e1-38a4-41bc-8dc1-2c2206ada932",
   "metadata": {},
   "source": [
    "5. XGBoost Model Training"
   ]
  },
  {
   "cell_type": "code",
   "execution_count": 36,
   "id": "fe6f0eb5-95a1-4714-9b80-e2622909f2f2",
   "metadata": {},
   "outputs": [],
   "source": [
    "features = ['mileage', 'year', 'driver_rating', 'accidents_or_damage', 'one_owner', 'personal_use_only', 'mpg']\n",
    "target = 'price'\n",
    "\n",
    "X = df[features]\n",
    "y = df[target]\n",
    "\n",
    "X_train, X_test, y_train, y_test = train_test_split(X, y, test_size = 0.2, random_state = 42)"
   ]
  },
  {
   "cell_type": "code",
   "execution_count": 68,
   "id": "e3b8666a-4fa9-4d99-bbc2-c4ad77b25a05",
   "metadata": {},
   "outputs": [
    {
     "name": "stdout",
     "output_type": "stream",
     "text": [
      "X_train:\n",
      "          mileage  year  driver_rating  accidents_or_damage  one_owner  \\\n",
      "632607   14026.0  2019            4.4                  0.0        1.0   \n",
      "197140   37530.0  2018            4.8                  0.0        1.0   \n",
      "73140    50742.0  2018            4.8                  0.0        0.0   \n",
      "685560  124124.0  2009            4.6                  1.0        0.0   \n",
      "341354   82301.0  2019            4.7                  NaN        NaN   \n",
      "\n",
      "        personal_use_only   mpg  \n",
      "632607                1.0   0.0  \n",
      "197140                1.0  16.5  \n",
      "73140                 1.0  29.0  \n",
      "685560                0.0  18.0  \n",
      "341354                NaN  32.5  \n",
      "y_train:\n",
      " 632607    72000.0\n",
      "197140    57995.0\n",
      "73140     20895.0\n",
      "685560    15995.0\n",
      "341354    17895.0\n",
      "Name: price, dtype: float64\n",
      "X_test:\n",
      "          mileage  year  driver_rating  accidents_or_damage  one_owner  \\\n",
      "329033   22322.0  2020            4.8                  0.0        0.0   \n",
      "714962   65325.0  2019            4.5                  0.0        0.0   \n",
      "719918   95438.0  2013            4.4                  0.0        0.0   \n",
      "384370  109100.0  2008            4.3                  0.0        0.0   \n",
      "352262   38963.0  2019            4.8                  0.0        0.0   \n",
      "\n",
      "        personal_use_only   mpg  \n",
      "329033                1.0  28.5  \n",
      "714962                1.0  20.0  \n",
      "719918                0.0  49.5  \n",
      "384370                1.0  19.0  \n",
      "352262                0.0  29.0  \n",
      "y_test:\n",
      " 329033    38776.0\n",
      "714962    37990.0\n",
      "719918    17995.0\n",
      "384370     6495.0\n",
      "352262    21575.0\n",
      "Name: price, dtype: float64\n"
     ]
    }
   ],
   "source": [
    "print(\"X_train:\\n\", X_train.head())\n",
    "print(\"y_train:\\n\", y_train.head())\n",
    "print(\"X_test:\\n\", X_test.head())\n",
    "print(\"y_test:\\n\", y_test.head())"
   ]
  },
  {
   "cell_type": "code",
   "execution_count": 70,
   "id": "1a3419f6-6cc2-4a23-ad83-2393e4c6759d",
   "metadata": {},
   "outputs": [
    {
     "name": "stdout",
     "output_type": "stream",
     "text": [
      "X_train:\n",
      " (600726, 7)\n",
      "y_train:\n",
      " (600726,)\n",
      "X_test:\n",
      " (150182, 7)\n",
      "y_test:\n",
      " (150182,)\n"
     ]
    }
   ],
   "source": [
    "print(\"X_train:\\n\", X_train.shape)\n",
    "print(\"y_train:\\n\", y_train.shape)\n",
    "print(\"X_test:\\n\", X_test.shape)\n",
    "print(\"y_test:\\n\", y_test.shape)"
   ]
  },
  {
   "cell_type": "code",
   "execution_count": 74,
   "id": "7384d08d-821a-4744-a9dc-2b1a8e5901ec",
   "metadata": {},
   "outputs": [
    {
     "name": "stdout",
     "output_type": "stream",
     "text": [
      "Fitting 3 folds for each of 18 candidates, totalling 54 fits\n",
      "{'learning_rate': 0.2, 'max_depth': 7, 'n_estimators': 200}\n"
     ]
    }
   ],
   "source": [
    "model = XGBRegressor()\n",
    "\n",
    "param_grid = {\n",
    "    'n_estimators': [100, 200],\n",
    "    'max_depth': [3, 5, 7],\n",
    "    'learning_rate': [0.01, 0.1, 0.2]\n",
    "}\n",
    "\n",
    "grid_search = GridSearchCV(estimator = model, param_grid = param_grid, scoring = 'neg_mean_squared_error', cv = 3, verbose = 1, n_jobs = -1)\n",
    "\n",
    "grid_search.fit(X_train, y_train)\n",
    "\n",
    "print(grid_search.best_params_)"
   ]
  },
  {
   "cell_type": "code",
   "execution_count": 78,
   "id": "dcc5a23e-24dc-4aae-8bd4-9c71d27a65d8",
   "metadata": {},
   "outputs": [],
   "source": [
    "best_model = grid_search.best_estimator_\n",
    "\n",
    "y_pred = best_model.predict(X_test)"
   ]
  },
  {
   "cell_type": "code",
   "execution_count": 80,
   "id": "2d18045a-2f44-403b-9ea7-ec717a8e4e1b",
   "metadata": {},
   "outputs": [
    {
     "name": "stdout",
     "output_type": "stream",
     "text": [
      "Mean Squared Error: 84208242.50752516\n"
     ]
    }
   ],
   "source": [
    "mse = mean_squared_error(y_test, y_pred)\n",
    "print(f\"Mean Squared Error: {mse}\")"
   ]
  },
  {
   "cell_type": "code",
   "execution_count": null,
   "id": "fdd71467-571d-4e1e-a289-9abc8bea9fb9",
   "metadata": {},
   "outputs": [],
   "source": []
  }
 ],
 "metadata": {
  "kernelspec": {
   "display_name": "Python [conda env:base] *",
   "language": "python",
   "name": "conda-base-py"
  },
  "language_info": {
   "codemirror_mode": {
    "name": "ipython",
    "version": 3
   },
   "file_extension": ".py",
   "mimetype": "text/x-python",
   "name": "python",
   "nbconvert_exporter": "python",
   "pygments_lexer": "ipython3",
   "version": "3.11.7"
  }
 },
 "nbformat": 4,
 "nbformat_minor": 5
}
